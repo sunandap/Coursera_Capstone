{
  "nbformat": 4,
  "nbformat_minor": 0,
  "metadata": {
    "colab": {
      "name": "SegmentingAndClusteringNeighborhoods-Toronto PART_1.ipynb",
      "provenance": [],
      "collapsed_sections": [],
      "authorship_tag": "ABX9TyP+0zEgf7bHwdqvLCviBVuA",
      "include_colab_link": true
    },
    "kernelspec": {
      "name": "python3",
      "display_name": "Python 3"
    }
  },
  "cells": [
    {
      "cell_type": "markdown",
      "metadata": {
        "id": "view-in-github",
        "colab_type": "text"
      },
      "source": [
        "<a href=\"https://colab.research.google.com/github/sunandap/Coursera_Capstone/blob/master/SegmentingAndClusteringNeighborhoods_Toronto_PART_1.ipynb\" target=\"_parent\"><img src=\"https://colab.research.google.com/assets/colab-badge.svg\" alt=\"Open In Colab\"/></a>"
      ]
    },
    {
      "cell_type": "markdown",
      "metadata": {
        "id": "7IgAl2c6AXJ4",
        "colab_type": "text"
      },
      "source": [
        ""
      ]
    },
    {
      "cell_type": "markdown",
      "metadata": {
        "id": "nwoF-SDoBhjx",
        "colab_type": "text"
      },
      "source": [
        "# Part 1: Scraping Postal Codes from Wikipidea\n",
        "\"Explore and cluster the neighborhoods in Toronto.\"\n",
        "Scraping list of postal codes in Canada where the first letter is M. Postal codes beginning with M are located within the city of Toronto in the province of Ontario.\n",
        "The following script will scrape the following Wikipedia page, https://en.wikipedia.org/wiki/List_of_postal_codes_of_Canada:_M,\n",
        "Data content of postal codes table will be obtained and then transformed into pandas dataframe."
      ]
    },
    {
      "cell_type": "code",
      "metadata": {
        "id": "68rcWKr0CANq",
        "colab_type": "code",
        "colab": {}
      },
      "source": [
        "# -----------------------------------------------------\n",
        "# Using BS4 as suggested in Assignment.\n",
        "# scrape_table_bs4 <tableClassName> <expected numberOfColumns>\n",
        "# -----------------------------------------------------\n",
        "def scrape_table_bs4(cname,cols):\n",
        "    page  = urllib.request.urlopen(url).read()\n",
        "    soup  = bs.BeautifulSoup(page,'lxml')\n",
        "    table = soup.find(\"table\",class_=cname)\n",
        "    header = [head.findAll(text=True)[0].strip() for head in table.find_all(\"th\")]\n",
        "    data   = [[td.findAll(text=True)[0].strip() for td in tr.find_all(\"td\")]\n",
        "              for tr in table.find_all(\"tr\")]\n",
        "    data    = [row for row in data if len(row) == cols]\n",
        "    # Store data to this temporary dataframe\n",
        "    raw_df = pd.DataFrame(data,columns=header)\n",
        "    return raw_df\n",
        "\n",
        "# -----------------------------------------------------\n",
        "# Parsing using xpath.\n",
        "# -----------------------------------------------------\n",
        "def scrape_table_lxml(XPATH,cols):\n",
        "    page = requests.get(url)\n",
        "    doc = lh.fromstring(page.content)\n",
        "    table_content = doc.xpath(XPATH)\n",
        "    for table in table_content:\n",
        "        headers = [th.text_content().strip() for th in table.xpath('//th')]\n",
        "        headers = headers[0:3]\n",
        "        data    = [[td.text_content().strip() for td in tr.xpath('td')] \n",
        "                   for tr in table.xpath('//tbody/tr')]\n",
        "        data    = [row for row in data if len(row) == cols]\n",
        "        raw_df = pd.DataFrame(data,columns=headers)\n",
        "        return raw_df"
      ],
      "execution_count": 5,
      "outputs": []
    },
    {
      "cell_type": "code",
      "metadata": {
        "id": "5dzUn497BuPf",
        "colab_type": "code",
        "colab": {}
      },
      "source": [
        "## Source URL\n",
        "url   = \"https://en.wikipedia.org/wiki/List_of_postal_codes_of_Canada:_M\""
      ],
      "execution_count": 9,
      "outputs": []
    },
    {
      "cell_type": "markdown",
      "metadata": {
        "id": "B8T_eOGvB5e_",
        "colab_type": "text"
      },
      "source": [
        "## The following two functions below allows us to scrape html tables using\n",
        "Python BeautifulSoup - python library for pulling data out of HTML and XML files, or\n",
        "Python lxml - simmilar library that supports scraping with xpath"
      ]
    },
    {
      "cell_type": "code",
      "metadata": {
        "id": "AW8GgJZOCheb",
        "colab_type": "code",
        "colab": {}
      },
      "source": [
        "# -----------------------------------------------------\n",
        "# Using BS4 as suggested in Assignment.\n",
        "# scrape_table_bs4 <tableClassName> <expected numberOfColumns>\n",
        "# -----------------------------------------------------\n",
        "def scrape_table_bs4(cname,cols):\n",
        "    page  = urllib.request.urlopen(url).read()\n",
        "    soup  = bs.BeautifulSoup(page,'lxml')\n",
        "    table = soup.find(\"table\",class_=cname)\n",
        "    header = [head.findAll(text=True)[0].strip() for head in table.find_all(\"th\")]\n",
        "    data   = [[td.findAll(text=True)[0].strip() for td in tr.find_all(\"td\")]\n",
        "              for tr in table.find_all(\"tr\")]\n",
        "    data    = [row for row in data if len(row) == cols]\n",
        "    # Store data to this temporary dataframe\n",
        "    raw_df = pd.DataFrame(data,columns=header)\n",
        "    return raw_df\n",
        "\n",
        "# -----------------------------------------------------\n",
        "# Parsing using xpath.\n",
        "# -----------------------------------------------------\n",
        "def scrape_table_lxml(XPATH,cols):\n",
        "    page = requests.get(url)\n",
        "    doc = lh.fromstring(page.content)\n",
        "    table_content = doc.xpath(XPATH)\n",
        "    for table in table_content:\n",
        "        headers = [th.text_content().strip() for th in table.xpath('//th')]\n",
        "        headers = headers[0:3]\n",
        "        data    = [[td.text_content().strip() for td in tr.xpath('td')] \n",
        "                   for tr in table.xpath('//tbody/tr')]\n",
        "        data    = [row for row in data if len(row) == cols]\n",
        "        raw_df = pd.DataFrame(data,columns=headers)\n",
        "        return raw_df\n"
      ],
      "execution_count": 11,
      "outputs": []
    },
    {
      "cell_type": "code",
      "metadata": {
        "id": "Q-BKCcWpF7os",
        "colab_type": "code",
        "colab": {
          "base_uri": "https://localhost:8080/",
          "height": 221
        },
        "outputId": "c6be5834-ec01-41e2-a716-008d5faf6fe0"
      },
      "source": [
        "#Test in beautifulSoup\n",
        "raw_TorontoPostalCodes = scrape_table_bs4(\"wikitable\",3)\n",
        "\n",
        "#Test in lxml ( for xpath based extraction)\n",
        "#raw_TorontoPostalCodes = scrape_table_lxml(\"/html/body/div[3]/div[3]/div[4]/div/table[1]\",3)\n",
        "\n",
        "print(\"# Toronto Postal codes stored in data\")\n",
        "print(raw_TorontoPostalCodes.info(verbose=True))"
      ],
      "execution_count": 12,
      "outputs": [
        {
          "output_type": "stream",
          "text": [
            "# Toronto Postal codes stored in data\n",
            "<class 'pandas.core.frame.DataFrame'>\n",
            "RangeIndex: 180 entries, 0 to 179\n",
            "Data columns (total 3 columns):\n",
            " #   Column        Non-Null Count  Dtype \n",
            "---  ------        --------------  ----- \n",
            " 0   Postal Code   180 non-null    object\n",
            " 1   Borough       180 non-null    object\n",
            " 2   Neighborhood  180 non-null    object\n",
            "dtypes: object(3)\n",
            "memory usage: 4.3+ KB\n",
            "None\n"
          ],
          "name": "stdout"
        }
      ]
    },
    {
      "cell_type": "markdown",
      "metadata": {
        "id": "djCDsE6UGEON",
        "colab_type": "text"
      },
      "source": [
        "## Data Cleanup and re-grouping.\n",
        "The scraped wikipedia table contains some un-wanted entries and needs some cleanup. The following tasks will be performed:\n",
        "\n",
        "Drop/ignore cells with un-assigned boroughs.\n",
        "If a cell has a borough but a Not assigned neighborhood, then the neighborhood will be the same as the borough.\n",
        "Group the table by PostalCode/Borough, Neighbourhood belonging to same borough will be combined in 'Neighbourhood' column as separated with 'comma'."
      ]
    },
    {
      "cell_type": "code",
      "metadata": {
        "id": "Sv0O4NgqGJUR",
        "colab_type": "code",
        "colab": {}
      },
      "source": [
        "# -----------------------------------------------------\n",
        "# Only process the cells that have an assigned borough. \n",
        "# Ignore cells with a borough that is Not assigned.\n",
        "# -----------------------------------------------------\n",
        "TorontoPostalCodes=raw_TorontoPostalCodes[~raw_TorontoPostalCodes['Borough'].isin(['Not assigned'])]\n",
        "\n",
        "# Sort and Reset index.\n",
        "TorontoPostalCodes=TorontoPostalCodes.sort_values(by=['Postal Code','Borough','Neighborhood'], ascending=[1,1,1]).reset_index(drop=True)\n",
        "\n",
        "# -----------------------------------------------------\n",
        "# If a cell has a borough but a Not assigned neighborhood, then the neighborhood will be the same as the borough.\n",
        "# For example the value of the Borough and the Neighborhood columns will be Queen's Park.\n",
        "# -----------------------------------------------------\n",
        "TorontoPostalCodes.loc[TorontoPostalCodes['Neighborhood'] == 'Not assigned', ['Neighborhood']] = TorontoPostalCodes['Borough']\n",
        "check_unassigned_post_state_sample = TorontoPostalCodes.loc[TorontoPostalCodes['Borough'] == 'Queen\\'s Park']\n",
        "#print('DEBUG:',check_unassigned_post_state_sample) ; # Print sample borough problem post state\n",
        "\n",
        "# -----------------------------------------------------\n",
        "# More than one neighborhood can exist in one postal code area. \n",
        "# For example, in the table on the Wikipedia page, you will notice that M5A is listed twice \n",
        "# and has two neighborhoods: Harbourfront and Regent Park. \n",
        "# These two rows will be combined into one row with the neighborhoods separated with a comma.\n",
        "# -----------------------------------------------------\n",
        "TorontoPostalCodes = TorontoPostalCodes.groupby(['Postal Code','Borough'])['Neighborhood'].apply(', '.join).reset_index()"
      ],
      "execution_count": 18,
      "outputs": []
    },
    {
      "cell_type": "code",
      "metadata": {
        "id": "H6ceWQFOG_Rd",
        "colab_type": "code",
        "colab": {
          "base_uri": "https://localhost:8080/",
          "height": 419
        },
        "outputId": "76a2ecfc-b37a-4d99-989e-58870cb34edd"
      },
      "source": [
        "TorontoPostalCodes"
      ],
      "execution_count": 19,
      "outputs": [
        {
          "output_type": "execute_result",
          "data": {
            "text/html": [
              "<div>\n",
              "<style scoped>\n",
              "    .dataframe tbody tr th:only-of-type {\n",
              "        vertical-align: middle;\n",
              "    }\n",
              "\n",
              "    .dataframe tbody tr th {\n",
              "        vertical-align: top;\n",
              "    }\n",
              "\n",
              "    .dataframe thead th {\n",
              "        text-align: right;\n",
              "    }\n",
              "</style>\n",
              "<table border=\"1\" class=\"dataframe\">\n",
              "  <thead>\n",
              "    <tr style=\"text-align: right;\">\n",
              "      <th></th>\n",
              "      <th>Postal Code</th>\n",
              "      <th>Borough</th>\n",
              "      <th>Neighborhood</th>\n",
              "    </tr>\n",
              "  </thead>\n",
              "  <tbody>\n",
              "    <tr>\n",
              "      <th>0</th>\n",
              "      <td>M1B</td>\n",
              "      <td>Scarborough</td>\n",
              "      <td>Malvern, Rouge</td>\n",
              "    </tr>\n",
              "    <tr>\n",
              "      <th>1</th>\n",
              "      <td>M1C</td>\n",
              "      <td>Scarborough</td>\n",
              "      <td>Rouge Hill, Port Union, Highland Creek</td>\n",
              "    </tr>\n",
              "    <tr>\n",
              "      <th>2</th>\n",
              "      <td>M1E</td>\n",
              "      <td>Scarborough</td>\n",
              "      <td>Guildwood, Morningside, West Hill</td>\n",
              "    </tr>\n",
              "    <tr>\n",
              "      <th>3</th>\n",
              "      <td>M1G</td>\n",
              "      <td>Scarborough</td>\n",
              "      <td>Woburn</td>\n",
              "    </tr>\n",
              "    <tr>\n",
              "      <th>4</th>\n",
              "      <td>M1H</td>\n",
              "      <td>Scarborough</td>\n",
              "      <td>Cedarbrae</td>\n",
              "    </tr>\n",
              "    <tr>\n",
              "      <th>...</th>\n",
              "      <td>...</td>\n",
              "      <td>...</td>\n",
              "      <td>...</td>\n",
              "    </tr>\n",
              "    <tr>\n",
              "      <th>98</th>\n",
              "      <td>M9N</td>\n",
              "      <td>York</td>\n",
              "      <td>Weston</td>\n",
              "    </tr>\n",
              "    <tr>\n",
              "      <th>99</th>\n",
              "      <td>M9P</td>\n",
              "      <td>Etobicoke</td>\n",
              "      <td>Westmount</td>\n",
              "    </tr>\n",
              "    <tr>\n",
              "      <th>100</th>\n",
              "      <td>M9R</td>\n",
              "      <td>Etobicoke</td>\n",
              "      <td>Kingsview Village, St. Phillips, Martin Grove ...</td>\n",
              "    </tr>\n",
              "    <tr>\n",
              "      <th>101</th>\n",
              "      <td>M9V</td>\n",
              "      <td>Etobicoke</td>\n",
              "      <td>South Steeles, Silverstone, Humbergate, Jamest...</td>\n",
              "    </tr>\n",
              "    <tr>\n",
              "      <th>102</th>\n",
              "      <td>M9W</td>\n",
              "      <td>Etobicoke</td>\n",
              "      <td>Northwest, West Humber - Clairville</td>\n",
              "    </tr>\n",
              "  </tbody>\n",
              "</table>\n",
              "<p>103 rows × 3 columns</p>\n",
              "</div>"
            ],
            "text/plain": [
              "    Postal Code      Borough                                       Neighborhood\n",
              "0           M1B  Scarborough                                     Malvern, Rouge\n",
              "1           M1C  Scarborough             Rouge Hill, Port Union, Highland Creek\n",
              "2           M1E  Scarborough                  Guildwood, Morningside, West Hill\n",
              "3           M1G  Scarborough                                             Woburn\n",
              "4           M1H  Scarborough                                          Cedarbrae\n",
              "..          ...          ...                                                ...\n",
              "98          M9N         York                                             Weston\n",
              "99          M9P    Etobicoke                                          Westmount\n",
              "100         M9R    Etobicoke  Kingsview Village, St. Phillips, Martin Grove ...\n",
              "101         M9V    Etobicoke  South Steeles, Silverstone, Humbergate, Jamest...\n",
              "102         M9W    Etobicoke                Northwest, West Humber - Clairville\n",
              "\n",
              "[103 rows x 3 columns]"
            ]
          },
          "metadata": {
            "tags": []
          },
          "execution_count": 19
        }
      ]
    },
    {
      "cell_type": "code",
      "metadata": {
        "id": "dBBoKU4THEkl",
        "colab_type": "code",
        "colab": {
          "base_uri": "https://localhost:8080/",
          "height": 34
        },
        "outputId": "77324639-8871-4298-b31a-6c0eee3dd44f"
      },
      "source": [
        "TorontoPostalCodes.shape"
      ],
      "execution_count": 20,
      "outputs": [
        {
          "output_type": "execute_result",
          "data": {
            "text/plain": [
              "(103, 3)"
            ]
          },
          "metadata": {
            "tags": []
          },
          "execution_count": 20
        }
      ]
    },
    {
      "cell_type": "code",
      "metadata": {
        "id": "Jlnw1hAcHJU2",
        "colab_type": "code",
        "colab": {}
      },
      "source": [
        "TorontoPostalCodes.to_csv('Toronto.TASK_1_df.csv',index=False)"
      ],
      "execution_count": 21,
      "outputs": []
    }
  ]
}